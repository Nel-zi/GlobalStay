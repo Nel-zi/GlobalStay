{
 "cells": [
  {
   "cell_type": "markdown",
   "metadata": {},
   "source": [
    "#### Here we'll take the extracted data from the Data_extraction layer and clean it using pyspark and some pandas"
   ]
  },
  {
   "cell_type": "code",
   "execution_count": 129,
   "metadata": {},
   "outputs": [],
   "source": [
    "# Import necessary dependencies\n",
    "import pyspark\n",
    "from pyspark.sql import SparkSession\n",
    "from pyspark.sql.functions import monotonically_increasing_id\n",
    "from pyspark.sql.functions import col \n",
    "from pyspark.sql.types import StringType\n",
    "from pyspark.sql import functions as F\n",
    "\n",
    "import matplotlib.pyplot as plt\n",
    "import pandas as pd\n",
    "from sqlalchemy import create_engine\n",
    "from dotenv import load_dotenv\n",
    "import os\n",
    "import time"
   ]
  },
  {
   "cell_type": "code",
   "execution_count": 128,
   "metadata": {},
   "outputs": [],
   "source": [
    "# Set environment variables for Java, Spark, and Hadoop\n",
    "os.environ[\"PYSPARK_PYTHON\"] = r\"C:\\Users\\Nel\\AppData\\Local\\Programs\\Python\\Python311\\python.exe\"  # Replace with your Python path\n",
    "os.environ[\"JAVA_HOME\"] = r\"C:\\Program Files\\Java\\jdk-17\"  # Replace with your Java JDK path\n",
    "os.environ[\"SPARK_HOME\"] = r\"C:\\Spark\"  # Replace with your Spark installation path\n",
    "os.environ[\"HADOOP_HOME\"] = r\"C:\\Hadoop\"  # Required if running Spark with Hadoop dependencies\n",
    "\n",
    "# Add Spark and Hadoop binaries to the system PATH\n",
    "os.environ[\"PATH\"] += os.pathsep + os.path.join(os.environ[\"SPARK_HOME\"], \"bin\")\n",
    "os.environ[\"PATH\"] += os.pathsep + os.path.join(os.environ[\"HADOOP_HOME\"], \"bin\")\n"
   ]
  },
  {
   "cell_type": "code",
   "execution_count": 3,
   "metadata": {},
   "outputs": [],
   "source": [
    "# Initialise our spark session\n",
    "spark = SparkSession.builder.appName('GlobalStayETL').getOrCreate()"
   ]
  },
  {
   "cell_type": "code",
   "execution_count": 4,
   "metadata": {},
   "outputs": [
    {
     "data": {
      "text/html": [
       "\n",
       "            <div>\n",
       "                <p><b>SparkSession - in-memory</b></p>\n",
       "                \n",
       "        <div>\n",
       "            <p><b>SparkContext</b></p>\n",
       "\n",
       "            <p><a href=\"http://DESKTOP-VDNGTNA:4040\">Spark UI</a></p>\n",
       "\n",
       "            <dl>\n",
       "              <dt>Version</dt>\n",
       "                <dd><code>v3.5.4</code></dd>\n",
       "              <dt>Master</dt>\n",
       "                <dd><code>local[*]</code></dd>\n",
       "              <dt>AppName</dt>\n",
       "                <dd><code>GlobalStayETL</code></dd>\n",
       "            </dl>\n",
       "        </div>\n",
       "        \n",
       "            </div>\n",
       "        "
      ],
      "text/plain": [
       "<pyspark.sql.session.SparkSession at 0x28144e4cb90>"
      ]
     },
     "execution_count": 4,
     "metadata": {},
     "output_type": "execute_result"
    }
   ],
   "source": [
    "spark"
   ]
  },
  {
   "cell_type": "code",
   "execution_count": 5,
   "metadata": {},
   "outputs": [
    {
     "name": "stderr",
     "output_type": "stream",
     "text": [
      "C:\\Users\\Nel\\AppData\\Local\\Temp\\ipykernel_17348\\2881984375.py:2: DtypeWarning: Columns (4,17) have mixed types. Specify dtype option on import or set low_memory=False.\n",
      "  df = pd.read_csv('House_listings\\merged_airbnb_listings.csv')\n"
     ]
    }
   ],
   "source": [
    "# Next is to create a dataframe from the extracted data using pandas\n",
    "df = pd.read_csv('House_listings\\merged_airbnb_listings.csv')"
   ]
  },
  {
   "cell_type": "code",
   "execution_count": 6,
   "metadata": {},
   "outputs": [
    {
     "data": {
      "text/plain": [
       "(1475478, 20)"
      ]
     },
     "execution_count": 6,
     "metadata": {},
     "output_type": "execute_result"
    }
   ],
   "source": [
    "# Lets check the number of rows and columns of the data\n",
    "df.shape"
   ]
  },
  {
   "cell_type": "code",
   "execution_count": 7,
   "metadata": {},
   "outputs": [],
   "source": [
    "# Next let work with a fraction of the data, we'll call this fraction sample_data\n",
    "sample_data = df.sample(frac=0.01, random_state=1)"
   ]
  },
  {
   "cell_type": "code",
   "execution_count": 8,
   "metadata": {},
   "outputs": [
    {
     "data": {
      "text/plain": [
       "(14755, 20)"
      ]
     },
     "execution_count": 8,
     "metadata": {},
     "output_type": "execute_result"
    }
   ],
   "source": [
    "# Now ;let's check the number of rows and columns of the sample data\n",
    "sample_data.shape"
   ]
  },
  {
   "cell_type": "code",
   "execution_count": 9,
   "metadata": {},
   "outputs": [],
   "source": [
    "# To make cleaning easier, we should convert all of the columns in the sample_data to strings\n",
    "sample_data = sample_data.astype(str)"
   ]
  },
  {
   "cell_type": "code",
   "execution_count": 10,
   "metadata": {},
   "outputs": [],
   "source": [
    "# For convinence, we should save that sample_data as a csv file\n",
    "sample_data.to_csv('House_listings/sample_data_of_merged_airbnb_listings.csv', index=False)"
   ]
  },
  {
   "cell_type": "code",
   "execution_count": 166,
   "metadata": {},
   "outputs": [],
   "source": [
    "# Now let's switch over to spark and create the a spark dataframe from the sample_data\n",
    "listing_df = spark.createDataFrame(sample_data)"
   ]
  },
  {
   "cell_type": "code",
   "execution_count": 12,
   "metadata": {},
   "outputs": [
    {
     "name": "stdout",
     "output_type": "stream",
     "text": [
      "+-------------------+--------------------+---------+---------------+-------------------+--------------------+------------------+------------------+---------------+------+--------------+-----------------+-----------+-----------------+------------------------------+----------------+---------------------+------------------+--------------------+--------+\n",
      "|                 id|                name|  host_id|      host_name|neighbourhood_group|       neighbourhood|          latitude|         longitude|      room_type| price|minimum_nights|number_of_reviews|last_review|reviews_per_month|calculated_host_listings_count|availability_365|number_of_reviews_ltm|           license|             country|currency|\n",
      "+-------------------+--------------------+---------+---------------+-------------------+--------------------+------------------+------------------+---------------+------+--------------+-----------------+-----------+-----------------+------------------------------+----------------+---------------------+------------------+--------------------+--------+\n",
      "|1177108072524515524|Beachfront surfer...|258674948|        Hillary|           Honolulu|             Waianae|          21.47854|        -158.22307|Entire home/apt|  85.0|            30|                0|        nan|              nan|                             1|             116|                    0|               nan|Hawaii, Hawaii, U...| unknown|\n",
      "|1063058212676504354|  Masseria Pietramia| 34024984|     Alessandra|               Bari|            Monopoli|        40.8924317|        17.2352982|Entire home/apt| 148.0|             3|                3| 2024-07-27|             0.51|                             1|             179|                    3|IT072030C200088136|Puglia, Puglia, I...| unknown|\n",
      "| 898428598357821374|Budget Twin Room ...|467745580|           Alan|                nan|              Camden|          51.53641|          -0.13752|   Private room|  66.0|             1|               19| 2024-08-16|             1.36|                            15|              59|                    9|               nan|London, England, ...| unknown|\n",
      "|1145456183811818459|1 Bedroom with Br...| 22630928|     Next Level|                nan|           Melbourne|-37.82172629433272|144.96364876619177|Entire home/apt| 117.0|             3|                2| 2024-08-05|             0.51|                            46|             148|                    2|               nan|Melbourne, Victor...| unknown|\n",
      "|1132286729245259473|Άνετο δωμάτιο με ...|  3074032|        Vagelis|                nan|   Μυκόνου (Μykonos)|           37.4213|           25.3425|   Private room| 124.0|             1|                1| 2024-05-15|             0.23|                             2|               2|                    1|           1279779|Stockholm, Stockh...| unknown|\n",
      "|           29567712|Georgia's central...|218974272|Georgia & Nikos|                nan|              Χανίων|          35.51427|          24.02632|Entire home/apt|   nan|             3|               26| 2024-09-13|             0.39|                             1|               2|                    8|       00002822056|Crete, Crete, Greece| unknown|\n",
      "| 643878590309111774|La casa di Nonna ...|462822450|          Sante|               Bari|        Mola di Bari|        41.0600633|        17.0882794|   Private room|  80.0|             1|                1| 2022-08-29|             0.04|                             2|             241|                    0|               nan|Puglia, Puglia, I...| unknown|\n",
      "|           32934589|Aconchegante quar...| 10635262|      Elizabeth|                nan|          Copacabana|         -22.97343|         -43.18995|   Private room| 164.0|             1|               30| 2024-09-15|              0.5|                             2|              82|                   12|               nan|Rio de Janeiro, R...| unknown|\n",
      "| 670706005214293920|Casa  Luíz I - Ce...|469329176|          Paulo|  VILA NOVA DE GAIA|Santa Marinha e S...|          41.13847|           -8.6096|Entire home/apt|  59.0|             2|              119| 2024-09-12|             4.54|                             4|              86|                   58|          91367/AL|Porto, Norte, Por...| unknown|\n",
      "| 927946773248046564|Beautiful appartm...|  4779352|           Anne|                nan|             Nrrebro|        55.7051739|         12.556676|Entire home/apt|1000.0|             1|                0|        nan|              nan|                             2|             228|                    0|               nan|Copenhagen, Hoved...| unknown|\n",
      "+-------------------+--------------------+---------+---------------+-------------------+--------------------+------------------+------------------+---------------+------+--------------+-----------------+-----------+-----------------+------------------------------+----------------+---------------------+------------------+--------------------+--------+\n",
      "only showing top 10 rows\n",
      "\n"
     ]
    }
   ],
   "source": [
    "listing_df.show(10)"
   ]
  },
  {
   "cell_type": "code",
   "execution_count": 13,
   "metadata": {},
   "outputs": [
    {
     "data": {
      "text/plain": [
       "pyspark.sql.dataframe.DataFrame"
      ]
     },
     "execution_count": 13,
     "metadata": {},
     "output_type": "execute_result"
    }
   ],
   "source": [
    "# new lets check the type of the dataframe just created to confirm that it's a pyspark df\n",
    "type(listing_df)"
   ]
  },
  {
   "cell_type": "code",
   "execution_count": 14,
   "metadata": {},
   "outputs": [
    {
     "name": "stdout",
     "output_type": "stream",
     "text": [
      "root\n",
      " |-- id: string (nullable = true)\n",
      " |-- name: string (nullable = true)\n",
      " |-- host_id: string (nullable = true)\n",
      " |-- host_name: string (nullable = true)\n",
      " |-- neighbourhood_group: string (nullable = true)\n",
      " |-- neighbourhood: string (nullable = true)\n",
      " |-- latitude: string (nullable = true)\n",
      " |-- longitude: string (nullable = true)\n",
      " |-- room_type: string (nullable = true)\n",
      " |-- price: string (nullable = true)\n",
      " |-- minimum_nights: string (nullable = true)\n",
      " |-- number_of_reviews: string (nullable = true)\n",
      " |-- last_review: string (nullable = true)\n",
      " |-- reviews_per_month: string (nullable = true)\n",
      " |-- calculated_host_listings_count: string (nullable = true)\n",
      " |-- availability_365: string (nullable = true)\n",
      " |-- number_of_reviews_ltm: string (nullable = true)\n",
      " |-- license: string (nullable = true)\n",
      " |-- country: string (nullable = true)\n",
      " |-- currency: string (nullable = true)\n",
      "\n"
     ]
    }
   ],
   "source": [
    "# checking the schema of the dataframe\n",
    "listing_df.printSchema()"
   ]
  },
  {
   "cell_type": "code",
   "execution_count": 15,
   "metadata": {},
   "outputs": [
    {
     "name": "stdout",
     "output_type": "stream",
     "text": [
      "+-------+--------------------+--------------------+--------------------+------------+-------------------+------------------+------------------+------------------+---------------+-----+------------------+-----------------+-----------+-----------------+------------------------------+------------------+---------------------+-------+--------------------+--------+\n",
      "|summary|                  id|                name|             host_id|   host_name|neighbourhood_group|     neighbourhood|          latitude|         longitude|      room_type|price|    minimum_nights|number_of_reviews|last_review|reviews_per_month|calculated_host_listings_count|  availability_365|number_of_reviews_ltm|license|             country|currency|\n",
      "+-------+--------------------+--------------------+--------------------+------------+-------------------+------------------+------------------+------------------+---------------+-----+------------------+-----------------+-----------+-----------------+------------------------------+------------------+---------------------+-------+--------------------+--------+\n",
      "|  count|               14755|               14755|               14755|       14755|              14755|             14755|             14755|             14755|          14755|14755|             14755|            14755|      14755|            14755|                         14755|             14755|                14755|  14755|               14755|   14755|\n",
      "|   mean|5.305218648524397...|                 0.0| 2.030562943766181E8|        NULL|                NaN|               NaN|30.161982762444477|-4.378838075830116|           NULL|  NaN|12.387936292782108|36.01192815994578|        NaN|              NaN|            24.681260589630632|182.10776008132837|    9.442900711623178|    NaN|                NULL|    NULL|\n",
      "| stddev|4.972188105509847...|                NULL|1.9219403398327592E8|        NULL|                NaN|               NaN| 27.96138935451542| 74.39142576072331|           NULL|  NaN| 43.59157790682678|74.34663304391836|        NaN|              NaN|            100.35530750072296|131.57561931879206|    16.56557789128634|    NaN|                NULL|    NULL|\n",
      "|    min| 1000007051406614334|!Luxurious Double...|           100019464|2018Serenity|            ALGIROS|1er Arrondissement|         -17.92937|          -0.00269|Entire home/apt| 10.0|                 1|                0| 2013-03-17|             0.01|                             1|                 0|                    0|      -|Albany, New York,...|     CNY|\n",
      "|    max|  999946902561377414|🤩6th Floor Spino...|            99996234|        은영|   Ōpōtiki District|            萬華區| 59.97101619999999|           9.97196|    Shared room|  nan|               999|              997|        nan|              nan|                            99|                99|                   98|vt85963|Zurich, ZÃ¼rich, ...| unknown|\n",
      "+-------+--------------------+--------------------+--------------------+------------+-------------------+------------------+------------------+------------------+---------------+-----+------------------+-----------------+-----------+-----------------+------------------------------+------------------+---------------------+-------+--------------------+--------+\n",
      "\n"
     ]
    }
   ],
   "source": [
    "# we can also check further details about the data using describe and show\n",
    "listing_df.describe().show()"
   ]
  },
  {
   "cell_type": "code",
   "execution_count": 16,
   "metadata": {},
   "outputs": [
    {
     "data": {
      "text/plain": [
       "['id',\n",
       " 'name',\n",
       " 'host_id',\n",
       " 'host_name',\n",
       " 'neighbourhood_group',\n",
       " 'neighbourhood',\n",
       " 'latitude',\n",
       " 'longitude',\n",
       " 'room_type',\n",
       " 'price',\n",
       " 'minimum_nights',\n",
       " 'number_of_reviews',\n",
       " 'last_review',\n",
       " 'reviews_per_month',\n",
       " 'calculated_host_listings_count',\n",
       " 'availability_365',\n",
       " 'number_of_reviews_ltm',\n",
       " 'license',\n",
       " 'country',\n",
       " 'currency']"
      ]
     },
     "execution_count": 16,
     "metadata": {},
     "output_type": "execute_result"
    }
   ],
   "source": [
    "listing_df.columns"
   ]
  },
  {
   "cell_type": "code",
   "execution_count": 17,
   "metadata": {},
   "outputs": [
    {
     "data": {
      "text/plain": [
       "<bound method DataFrame.count of DataFrame[id: string, name: string, host_id: string, host_name: string, neighbourhood_group: string, neighbourhood: string, latitude: string, longitude: string, room_type: string, price: string, minimum_nights: string, number_of_reviews: string, last_review: string, reviews_per_month: string, calculated_host_listings_count: string, availability_365: string, number_of_reviews_ltm: string, license: string, country: string, currency: string]>"
      ]
     },
     "execution_count": 17,
     "metadata": {},
     "output_type": "execute_result"
    }
   ],
   "source": [
    "listing_df.count"
   ]
  },
  {
   "cell_type": "code",
   "execution_count": 122,
   "metadata": {},
   "outputs": [],
   "source": [
    "# Getting distinct values in a particular column\n",
    "distinct_countries = listing_df.select('country').distinct()"
   ]
  },
  {
   "cell_type": "code",
   "execution_count": 123,
   "metadata": {},
   "outputs": [
    {
     "name": "stdout",
     "output_type": "stream",
     "text": [
      "+--------------------+\n",
      "|             country|\n",
      "+--------------------+\n",
      "|Vancouver, Britis...|\n",
      "|Rhode Island, Rho...|\n",
      "|Austin, Texas, Un...|\n",
      "|Bordeaux, Nouvell...|\n",
      "|Los Angeles, Cali...|\n",
      "|Geneva, Geneva, S...|\n",
      "|Pays Basque, PyrÃ...|\n",
      "|Sunshine Coast, Q...|\n",
      "|Euskadi, Euskadi,...|\n",
      "|Cambridge, Massac...|\n",
      "|Montreal, Quebec,...|\n",
      "|Tasmania, Tasmani...|\n",
      "|Washington, D.C.,...|\n",
      "|Vienna, Vienna, A...|\n",
      "|Barcelona, Catalo...|\n",
      "|Copenhagen, Hoved...|\n",
      "|Columbus, Ohio, U...|\n",
      "|San Diego, Califo...|\n",
      "|Tokyo, KantÅ, Japan|\n",
      "|Victoria, British...|\n",
      "+--------------------+\n",
      "only showing top 20 rows\n",
      "\n"
     ]
    }
   ],
   "source": [
    "distinct_countries.show()"
   ]
  },
  {
   "cell_type": "code",
   "execution_count": 124,
   "metadata": {},
   "outputs": [
    {
     "data": {
      "text/plain": [
       "111"
      ]
     },
     "execution_count": 124,
     "metadata": {},
     "output_type": "execute_result"
    }
   ],
   "source": [
    "# Checking the count of the countries after distinct was applied\n",
    "distinct_countries.count()\n",
    "\n",
    "# or\n",
    "\n",
    "# len(distinct_countries.collect())"
   ]
  },
  {
   "cell_type": "code",
   "execution_count": 35,
   "metadata": {},
   "outputs": [
    {
     "data": {
      "text/plain": [
       "14755"
      ]
     },
     "execution_count": 35,
     "metadata": {},
     "output_type": "execute_result"
    }
   ],
   "source": [
    "# Checking the count of the countries without applying distinct\n",
    "listing_df.select('country').count()"
   ]
  },
  {
   "cell_type": "code",
   "execution_count": 90,
   "metadata": {},
   "outputs": [
    {
     "name": "stdout",
     "output_type": "stream",
     "text": [
      "+--------------------+-------------+\n",
      "|              Column|Missing Count|\n",
      "+--------------------+-------------+\n",
      "|                  id|            0|\n",
      "|                name|            0|\n",
      "|             host_id|            0|\n",
      "|           host_name|            0|\n",
      "| neighbourhood_group|        10513|\n",
      "|       neighbourhood|           16|\n",
      "|            latitude|            0|\n",
      "|           longitude|            0|\n",
      "|           room_type|            0|\n",
      "|               price|         2468|\n",
      "|      minimum_nights|            0|\n",
      "|   number_of_reviews|            0|\n",
      "|         last_review|         3069|\n",
      "|   reviews_per_month|         3069|\n",
      "|calculated_host_l...|            0|\n",
      "|    availability_365|            0|\n",
      "|number_of_reviews...|            0|\n",
      "|             license|         9407|\n",
      "|             country|            0|\n",
      "|            currency|            0|\n",
      "+--------------------+-------------+\n",
      "\n"
     ]
    }
   ],
   "source": [
    "# Now let's show the distribution of the missing values in the columns\n",
    "\n",
    "\n",
    "# **Option 1:**\n",
    "# null_counts = [(column, listing_df.where(col(column).isNull()).count() + listing_df.where(col(column) == 'nan').count())\n",
    "#                for column in listing_df.columns]\n",
    "\n",
    "\n",
    "# or\n",
    "\n",
    "#**Option 2:**\n",
    "# This second method is not so accurate though, best to use the first.\n",
    "\n",
    "# for column in listing_df.columns:\n",
    "#     print(column, 'Nulls', 'nan', listing_df.filter(listing_df[column].isNull()).count())\n",
    "\n",
    "\n",
    "\n",
    "#**Option 3:**\n",
    "# This is an even better way to do it, although it takes longer\n",
    "missing_values = [(column, \n",
    "                   listing_df.where(col(column).isNull()).count() + \n",
    "                   listing_df.where(col(column) == 'nan').count() + \n",
    "                   listing_df.where(col(column) == '').count())  \n",
    "                  for column in listing_df.columns]\n",
    "\n",
    "# Convert to DataFrame for easier processing\n",
    "missing_df = spark.createDataFrame(missing_values, [\"Column\", \"Missing Count\"])\n",
    "missing_df.show()\n"
   ]
  },
  {
   "cell_type": "code",
   "execution_count": 92,
   "metadata": {},
   "outputs": [
    {
     "data": {
      "text/plain": [
       "[('id', 0),\n",
       " ('name', 0),\n",
       " ('host_id', 0),\n",
       " ('host_name', 0),\n",
       " ('neighbourhood_group', 10513),\n",
       " ('neighbourhood', 16),\n",
       " ('latitude', 0),\n",
       " ('longitude', 0),\n",
       " ('room_type', 0),\n",
       " ('price', 2468),\n",
       " ('minimum_nights', 0),\n",
       " ('number_of_reviews', 0),\n",
       " ('last_review', 3069),\n",
       " ('reviews_per_month', 3069),\n",
       " ('calculated_host_listings_count', 0),\n",
       " ('availability_365', 0),\n",
       " ('number_of_reviews_ltm', 0),\n",
       " ('license', 9407),\n",
       " ('country', 0),\n",
       " ('currency', 0)]"
      ]
     },
     "execution_count": 92,
     "metadata": {},
     "output_type": "execute_result"
    }
   ],
   "source": [
    "missing_values"
   ]
  },
  {
   "cell_type": "code",
   "execution_count": 94,
   "metadata": {},
   "outputs": [
    {
     "data": {
      "text/plain": [
       "list"
      ]
     },
     "execution_count": 94,
     "metadata": {},
     "output_type": "execute_result"
    }
   ],
   "source": [
    "type(missing_values)"
   ]
  },
  {
   "cell_type": "code",
   "execution_count": 116,
   "metadata": {},
   "outputs": [
    {
     "data": {
      "image/png": "[encoded data removed]",
      "text/plain": [
       "<Figure size 1000x600 with 1 Axes>"
      ]
     },
     "metadata": {},
     "output_type": "display_data"
    }
   ],
   "source": [
    "# Now let's plot a graph to visualise the distribution of the missing values\n",
    "\n",
    "plt.figure(figsize=(10,6))\n",
    "plt.barh(*zip(*missing_values), color='darkred')\n",
    "plt.xlabel('Count')\n",
    "plt.title('Missing Values Count')\n",
    "plt.show()"
   ]
  },
  {
   "cell_type": "code",
   "execution_count": 96,
   "metadata": {},
   "outputs": [],
   "source": [
    "# Drop columns with more than 50% missing values\n",
    "columns_to_drop = [column for column, count in missing_values if count > 0.5 * listing_df.count()]"
   ]
  },
  {
   "cell_type": "code",
   "execution_count": 97,
   "metadata": {},
   "outputs": [
    {
     "data": {
      "text/plain": [
       "['neighbourhood_group', 'license']"
      ]
     },
     "execution_count": 97,
     "metadata": {},
     "output_type": "execute_result"
    }
   ],
   "source": [
    "columns_to_drop"
   ]
  },
  {
   "cell_type": "code",
   "execution_count": 167,
   "metadata": {},
   "outputs": [],
   "source": [
    "# Now we can then go on to remove the columns with more than 50% missing values from listing_df by removing columns_to_drop\n",
    "listing_df = listing_df.drop(*columns_to_drop)"
   ]
  },
  {
   "cell_type": "code",
   "execution_count": 168,
   "metadata": {},
   "outputs": [
    {
     "data": {
      "text/plain": [
       "['id',\n",
       " 'name',\n",
       " 'host_id',\n",
       " 'host_name',\n",
       " 'neighbourhood',\n",
       " 'latitude',\n",
       " 'longitude',\n",
       " 'room_type',\n",
       " 'price',\n",
       " 'minimum_nights',\n",
       " 'number_of_reviews',\n",
       " 'last_review',\n",
       " 'reviews_per_month',\n",
       " 'calculated_host_listings_count',\n",
       " 'availability_365',\n",
       " 'number_of_reviews_ltm',\n",
       " 'country',\n",
       " 'currency']"
      ]
     },
     "execution_count": 168,
     "metadata": {},
     "output_type": "execute_result"
    }
   ],
   "source": [
    "# Now lets check the columns again to see\n",
    "listing_df.columns"
   ]
  },
  {
   "cell_type": "code",
   "execution_count": 100,
   "metadata": {},
   "outputs": [],
   "source": [
    "# Drops rows with ANY null values but it'll hardly help us in our case because ours isn't missing but it's written in the string nan\n",
    "# in this case, we'll have to use filter, we do this in the next cell\n",
    "cleaned_df = listing_df.dropna()  \n"
   ]
  },
  {
   "cell_type": "code",
   "execution_count": 169,
   "metadata": {},
   "outputs": [],
   "source": [
    "# Define a list of values that indicate \"missing\" data\n",
    "missing_strings = [\"missing_values\", \"N/A\", \"nan\", \"\"]  \n",
    "\n",
    "from functools import reduce  # Import reduce\n",
    "# Drop rows where ANY column contains these missing values\n",
    "# Apply filter condition to all columns dynamically\n",
    "cleaned_df = listing_df.filter(\n",
    "    reduce(lambda a, b: a & b, [~col(c).isin(missing_strings) for c in listing_df.columns])\n",
    ")\n"
   ]
  },
  {
   "cell_type": "code",
   "execution_count": 130,
   "metadata": {},
   "outputs": [],
   "source": [
    "# Checking to see if all rows with missing values have been dropped using **Option 1:**\n",
    "null_counts = [(column, cleaned_df.where(col(column).isNull()).count() + cleaned_df.where(col(column) == 'nan').count())\n",
    "               for column in cleaned_df.columns]"
   ]
  },
  {
   "cell_type": "code",
   "execution_count": 131,
   "metadata": {},
   "outputs": [
    {
     "data": {
      "text/plain": [
       "[('id', 0),\n",
       " ('name', 0),\n",
       " ('host_id', 0),\n",
       " ('host_name', 0),\n",
       " ('neighbourhood', 0),\n",
       " ('latitude', 0),\n",
       " ('longitude', 0),\n",
       " ('room_type', 0),\n",
       " ('price', 0),\n",
       " ('minimum_nights', 0),\n",
       " ('number_of_reviews', 0),\n",
       " ('last_review', 0),\n",
       " ('reviews_per_month', 0),\n",
       " ('calculated_host_listings_count', 0),\n",
       " ('availability_365', 0),\n",
       " ('number_of_reviews_ltm', 0),\n",
       " ('country', 0),\n",
       " ('currency', 0)]"
      ]
     },
     "execution_count": 131,
     "metadata": {},
     "output_type": "execute_result"
    }
   ],
   "source": [
    "null_counts"
   ]
  },
  {
   "cell_type": "code",
   "execution_count": 141,
   "metadata": {},
   "outputs": [
    {
     "data": {
      "image/png": "[encoded data removed]",
      "text/plain": [
       "<Figure size 1000x600 with 1 Axes>"
      ]
     },
     "metadata": {},
     "output_type": "display_data"
    }
   ],
   "source": [
    "# Now let's plot a graph to visualise the distribution of the missing values\n",
    "def visualisation():\n",
    "    plt.figure(figsize=(10,6))\n",
    "    plt.barh(*zip(*null_counts), color='darkred')\n",
    "    plt.xlabel('Count')\n",
    "    plt.title('Missing Values Count')\n",
    "    plt.show()\n",
    "\n",
    "visualisation()\n",
    "\n",
    "\n",
    "\n",
    "# A more comprehensive version\n",
    "# def visualisation():\n",
    "#     fig, ax = plt.subplots(figsize=(10, 6))\n",
    "#     ax.barh(missing_values_pd.columns, missing_values_pd.iloc[0], color='darkred')\n",
    "#     ax.set_xlabel('Count')\n",
    "#     ax.set_ylabel('Columns')\n",
    "#     ax.set_title('Missing Values Count')\n",
    "\n",
    "#     return fig  # Returns the figure object instead of displaying it\n",
    "\n",
    "# # Example usage:\n",
    "# fig = visualisation()\n",
    "# fig.savefig(\"missing_values.png\")  # Save the figure if needed\n",
    "\n"
   ]
  },
  {
   "cell_type": "code",
   "execution_count": 170,
   "metadata": {},
   "outputs": [],
   "source": [
    "# Now we want to perform some form of cleaning to the currency column...\n",
    "# ...the exact cleaning entails that we add currency symbols to all the unique countries\n",
    "# you can run the countries distinct code to confirm how many unique countries we have\n",
    "# you should also check the unique values in the currency column to see how many distinct currencies are in the dataframe, so we know how many more to add.\n",
    "\n",
    "\n",
    "# Checking the unique countries\n",
    "distinct_countries = cleaned_df.select('country').distinct()"
   ]
  },
  {
   "cell_type": "code",
   "execution_count": 175,
   "metadata": {},
   "outputs": [
    {
     "name": "stdout",
     "output_type": "stream",
     "text": [
      "+-------------------+--------------------+---------+----------+--------------------+------------------+-------------------+---------------+------+--------------+-----------------+-----------+-----------------+------------------------------+----------------+---------------------+--------------------+--------+----------------+\n",
      "|                 id|                name|  host_id| host_name|       neighbourhood|          latitude|          longitude|      room_type| price|minimum_nights|number_of_reviews|last_review|reviews_per_month|calculated_host_listings_count|availability_365|number_of_reviews_ltm|             country|currency|country_province|\n",
      "+-------------------+--------------------+---------+----------+--------------------+------------------+-------------------+---------------+------+--------------+-----------------+-----------+-----------------+------------------------------+----------------+---------------------+--------------------+--------+----------------+\n",
      "|1063058212676504354|  Masseria Pietramia| 34024984|Alessandra|            Monopoli|        40.8924317|         17.2352982|Entire home/apt| 148.0|             3|                3| 2024-07-27|             0.51|                             1|             179|                    3|Puglia, Puglia, I...| unknown|            NULL|\n",
      "| 898428598357821374|Budget Twin Room ...|467745580|      Alan|              Camden|          51.53641|           -0.13752|   Private room|  66.0|             1|               19| 2024-08-16|             1.36|                            15|              59|                    9|London, England, ...| unknown|            NULL|\n",
      "|1145456183811818459|1 Bedroom with Br...| 22630928|Next Level|           Melbourne|-37.82172629433272| 144.96364876619177|Entire home/apt| 117.0|             3|                2| 2024-08-05|             0.51|                            46|             148|                    2|Melbourne, Victor...| unknown|            NULL|\n",
      "|1132286729245259473|Άνετο δωμάτιο με ...|  3074032|   Vagelis|   Μυκόνου (Μykonos)|           37.4213|            25.3425|   Private room| 124.0|             1|                1| 2024-05-15|             0.23|                             2|               2|                    1|Stockholm, Stockh...| unknown|            NULL|\n",
      "| 643878590309111774|La casa di Nonna ...|462822450|     Sante|        Mola di Bari|        41.0600633|         17.0882794|   Private room|  80.0|             1|                1| 2022-08-29|             0.04|                             2|             241|                    0|Puglia, Puglia, I...| unknown|            NULL|\n",
      "|           32934589|Aconchegante quar...| 10635262| Elizabeth|          Copacabana|         -22.97343|          -43.18995|   Private room| 164.0|             1|               30| 2024-09-15|              0.5|                             2|              82|                   12|Rio de Janeiro, R...| unknown|            NULL|\n",
      "| 670706005214293920|Casa  Luíz I - Ce...|469329176|     Paulo|Santa Marinha e S...|          41.13847|            -8.6096|Entire home/apt|  59.0|             2|              119| 2024-09-12|             4.54|                             4|              86|                   58|Porto, Norte, Por...| unknown|            NULL|\n",
      "|           13881135|****THE SUITE LIF...|   923465|      Kila|  Bedford-Stuyvesant|          40.68976|          -73.93912|   Private room|  85.0|            30|               71| 2024-10-03|             0.71|                             2|             353|                    1|New York City, Ne...| unknown|            NULL|\n",
      "|1003600342814146961|Newport garden ho...|241917411|       Wei|          Middletown|          41.51728|          -71.28341|Entire home/apt| 339.0|             2|               19| 2024-09-28|             2.01|                             1|             320|                   19|Rhode Island, Rho...| unknown|            NULL|\n",
      "| 746313968178974859|E Palo Alto Home ...|126644161|    Evolve|      East Palo Alto| 37.46878153172797|-122.15324907575608|Entire home/apt| 250.0|             2|               29| 2024-07-14|             1.29|                             8|             323|                   15|San Mateo County,...| unknown|            NULL|\n",
      "|            2474884|Copenhagen Family...|  2332582|       Gry|         Amager Vest|          55.63902|           12.60099|Entire home/apt|2200.0|             2|                1| 2024-03-30|             0.16|                             1|             352|                    1|Copenhagen, Hoved...| unknown|            NULL|\n",
      "|1004451536213955003|Peaceful home wit...| 16253046| Christina|             Ward 62|         -34.01003|           18.43049|Entire home/apt|1990.0|             2|               21| 2024-05-23|             1.85|                             2|             216|                   21|Cape Town, Wester...| unknown|            NULL|\n",
      "|1180699200250936859|Eclectic Escape, ...| 52902268|     Erica|          Near South|          39.94746|          -82.96927|Entire home/apt| 186.0|             2|                2| 2024-08-28|             1.76|                             1|             258|                    2|Columbus, Ohio, U...| unknown|            NULL|\n",
      "| 678115137268546069|İstanbul Yeşilköy...|471267936|     Davud|            Bakirkoy|        40.9582636|         28.8266406|   Private room|1757.0|             1|                7| 2024-09-09|             0.27|                             6|             349|                    2|Istanbul, Marmara...| unknown|            NULL|\n",
      "|           38628590|Alosanthos Privat...|295033136|     Tilla|Φολεγάνδρου (Fole...|          36.62949|           24.92059|Entire home/apt| 219.0|             2|               48| 2024-09-19|             1.24|                             1|             164|                   15|Stockholm, Stockh...| unknown|            NULL|\n",
      "|1152005366354085735|Luxury Seaview Ap...|258027120|   Michael|          Μαλεβιζίου| 35.41066186130912|  25.01509732737733|Entire home/apt| 142.0|             2|               10| 2024-09-23|             2.22|                             4|             223|                   10|Crete, Crete, Greece| unknown|            NULL|\n",
      "|           29039021|Spectacular Bever...| 34542133|    Shelly|       Beverly Crest|          34.11531|          -118.4266|Entire home/apt|4500.0|            30|                2| 2019-12-20|             0.03|                             3|             365|                    0|Los Angeles, Cali...| unknown|            NULL|\n",
      "| 832026840280098281|Elegant Victorian...|502195315|     Sasan|Kingston upon Thames|        51.4154124|         -0.2876109|Entire home/apt| 130.0|             3|               27| 2024-08-12|             1.63|                             1|             162|                   16|London, England, ...| unknown|            NULL|\n",
      "|1127626780506452267|   Zimmer in Giesing|119223020|    Marita|         Obergiesing| 48.11372438876702| 11.586378030559963|   Private room| 104.0|             2|               20| 2024-09-22|             4.35|                             1|              31|                   20|Munich, Bavaria, ...| unknown|            NULL|\n",
      "|           20965015|Appartement tout ...|150814203|  Borderon|Castell-Platja d'Aro|          41.82226|            3.06777|Entire home/apt| 235.0|             7|                3| 2024-08-18|             0.05|                             1|             358|                    1|Girona, Catalonia...| unknown|            NULL|\n",
      "+-------------------+--------------------+---------+----------+--------------------+------------------+-------------------+---------------+------+--------------+-----------------+-----------+-----------------+------------------------------+----------------+---------------------+--------------------+--------+----------------+\n",
      "only showing top 20 rows\n",
      "\n"
     ]
    }
   ],
   "source": [
    "# showing it\n",
    "distinct_countries.show()"
   ]
  },
  {
   "cell_type": "code",
   "execution_count": 174,
   "metadata": {},
   "outputs": [
    {
     "data": {
      "text/plain": [
       "9876"
      ]
     },
     "execution_count": 174,
     "metadata": {},
     "output_type": "execute_result"
    }
   ],
   "source": [
    "# now counting it, it confirms that there are 111 distinct countries\n",
    "distinct_countries.count()"
   ]
  },
  {
   "cell_type": "code",
   "execution_count": 204,
   "metadata": {},
   "outputs": [
    {
     "name": "stdout",
     "output_type": "stream",
     "text": [
      "+-------------------+-------------------------------------------------------+---------+----------+------------------------------------+------------------+-------------------+---------------+------+--------------+-----------------+-----------+-----------------+------------------------------+----------------+---------------------+-------------------------------------------+--------+----------------+\n",
      "|id                 |name                                                   |host_id  |host_name |neighbourhood                       |latitude          |longitude          |room_type      |price |minimum_nights|number_of_reviews|last_review|reviews_per_month|calculated_host_listings_count|availability_365|number_of_reviews_ltm|country                                    |currency|country_province|\n",
      "+-------------------+-------------------------------------------------------+---------+----------+------------------------------------+------------------+-------------------+---------------+------+--------------+-----------------+-----------+-----------------+------------------------------+----------------+---------------------+-------------------------------------------+--------+----------------+\n",
      "|1063058212676504354|Masseria Pietramia                                     |34024984 |Alessandra|Monopoli                            |40.8924317        |17.2352982         |Entire home/apt|148.0 |3             |3                |2024-07-27 |0.51             |1                             |179             |3                    |Puglia, Puglia, Italy                      |unknown |Italy           |\n",
      "|898428598357821374 |Budget Twin Room in Camden-Kings Cross                 |467745580|Alan      |Camden                              |51.53641          |-0.13752           |Private room   |66.0  |1             |19               |2024-08-16 |1.36             |15                            |59              |9                    |London, England, United Kingdom            |unknown |United Kingdom  |\n",
      "|1145456183811818459|1 Bedroom with Breathtaking City Views                 |22630928 |Next Level|Melbourne                           |-37.82172629433272|144.96364876619177 |Entire home/apt|117.0 |3             |2                |2024-08-05 |0.51             |46                            |148             |2                    |Melbourne, Victoria, Australia             |unknown |Australia       |\n",
      "|1132286729245259473|Άνετο δωμάτιο με υδρομασάζ                             |3074032  |Vagelis   |Μυκόνου (Μykonos)                   |37.4213           |25.3425            |Private room   |124.0 |1             |1                |2024-05-15 |0.23             |2                             |2               |1                    |Stockholm, Stockholms lÃ¤n, Sweden         |unknown |Sweden          |\n",
      "|643878590309111774 |La casa di Nonna Sisina Camera Franchino               |462822450|Sante     |Mola di Bari                        |41.0600633        |17.0882794         |Private room   |80.0  |1             |1                |2022-08-29 |0.04             |2                             |241             |0                    |Puglia, Puglia, Italy                      |unknown |Italy           |\n",
      "|32934589           |Aconchegante quarto p/ casal c/ banheiro privativo     |10635262 |Elizabeth |Copacabana                          |-22.97343         |-43.18995          |Private room   |164.0 |1             |30               |2024-09-15 |0.5              |2                             |82              |12                   |Rio de Janeiro, Rio de Janeiro, Brazil     |unknown |Brazil          |\n",
      "|670706005214293920 |Casa  Luíz I - Central and Comfortable T1              |469329176|Paulo     |Santa Marinha e São Pedro da Afurada|41.13847          |-8.6096            |Entire home/apt|59.0  |2             |119              |2024-09-12 |4.54             |4                             |86              |58                   |Porto, Norte, Portugal                     |unknown |Portugal        |\n",
      "|13881135           |****THE SUITE LIFE DUPLEX****                          |923465   |Kila      |Bedford-Stuyvesant                  |40.68976          |-73.93912          |Private room   |85.0  |30            |71               |2024-10-03 |0.71             |2                             |353             |1                    |New York City, New York, United States     |unknown |United States   |\n",
      "|1003600342814146961|Newport garden house near beach                        |241917411|Wei       |Middletown                          |41.51728          |-71.28341          |Entire home/apt|339.0 |2             |19               |2024-09-28 |2.01             |1                             |320             |19                   |Rhode Island, Rhode Island, United States  |unknown |United States   |\n",
      "|746313968178974859 |E Palo Alto Home 3 Mi to Stanford University!          |126644161|Evolve    |East Palo Alto                      |37.46878153172797 |-122.15324907575608|Entire home/apt|250.0 |2             |29               |2024-07-14 |1.29             |8                             |323             |15                   |San Mateo County, California, United States|unknown |United States   |\n",
      "|2474884            |Copenhagen Family House with Garden                    |2332582  |Gry       |Amager Vest                         |55.63902          |12.60099           |Entire home/apt|2200.0|2             |1                |2024-03-30 |0.16             |1                             |352             |1                    |Copenhagen, Hovedstaden, Denmark           |unknown |Denmark         |\n",
      "|1004451536213955003|Peaceful home with mountain view                       |16253046 |Christina |Ward 62                             |-34.01003         |18.43049           |Entire home/apt|1990.0|2             |21               |2024-05-23 |1.85             |2                             |216             |21                   |Cape Town, Western Cape, South Africa      |unknown |South Africa    |\n",
      "|1180699200250936859|Eclectic Escape, 5 bed, 4 mins to Nationwide           |52902268 |Erica     |Near South                          |39.94746          |-82.96927          |Entire home/apt|186.0 |2             |2                |2024-08-28 |1.76             |1                             |258             |2                    |Columbus, Ohio, United States              |unknown |United States   |\n",
      "|678115137268546069 |İstanbul Yeşilköy mahallesinde konaklama               |471267936|Davud     |Bakirkoy                            |40.9582636        |28.8266406         |Private room   |1757.0|1             |7                |2024-09-09 |0.27             |6                             |349             |2                    |Istanbul, Marmara, Turkey                  |unknown |Turkey          |\n",
      "|38628590           |Alosanthos Private residence                           |295033136|Tilla     |Φολεγάνδρου (Folegandros)           |36.62949          |24.92059           |Entire home/apt|219.0 |2             |48               |2024-09-19 |1.24             |1                             |164             |15                   |Stockholm, Stockholms lÃ¤n, Sweden         |unknown |Sweden          |\n",
      "|1152005366354085735|Luxury Seaview Apartment                               |258027120|Michael   |Μαλεβιζίου                          |35.41066186130912 |25.01509732737733  |Entire home/apt|142.0 |2             |10               |2024-09-23 |2.22             |4                             |223             |10                   |Crete, Crete, Greece                       |unknown |Greece          |\n",
      "|29039021           |Spectacular Beverly Hills Villa Home Infinity Pool View|34542133 |Shelly    |Beverly Crest                       |34.11531          |-118.4266          |Entire home/apt|4500.0|30            |2                |2019-12-20 |0.03             |3                             |365             |0                    |Los Angeles, California, United States     |unknown |United States   |\n",
      "|832026840280098281 |Elegant Victorian apartment                            |502195315|Sasan     |Kingston upon Thames                |51.4154124        |-0.2876109         |Entire home/apt|130.0 |3             |27               |2024-08-12 |1.63             |1                             |162             |16                   |London, England, United Kingdom            |unknown |United Kingdom  |\n",
      "|1127626780506452267|Zimmer in Giesing                                      |119223020|Marita    |Obergiesing                         |48.11372438876702 |11.586378030559963 |Private room   |104.0 |2             |20               |2024-09-22 |4.35             |1                             |31              |20                   |Munich, Bavaria, Germany                   |unknown |Germany         |\n",
      "|20965015           |Appartement tout confort avec piscine                  |150814203|Borderon  |Castell-Platja d'Aro                |41.82226          |3.06777            |Entire home/apt|235.0 |7             |3                |2024-08-18 |0.05             |1                             |358             |1                    |Girona, Catalonia, Spain                   |unknown |Spain           |\n",
      "+-------------------+-------------------------------------------------------+---------+----------+------------------------------------+------------------+-------------------+---------------+------+--------------+-----------------+-----------+-----------------+------------------------------+----------------+---------------------+-------------------------------------------+--------+----------------+\n",
      "only showing top 20 rows\n",
      "\n"
     ]
    }
   ],
   "source": [
    "# Looking through the country column, because of how its stored, it tracks not just country but states as well...\n",
    "# ...that extra layer is causing more distinct country columns, even though the countries are repeted but the states are not...\n",
    "# ...but we don't want that in out data...\n",
    "# ...the solution is to extract the third value from the country column, if you check it, each of the third value is the actual country\n",
    "\n",
    "\n",
    "\n",
    "from pyspark.sql.functions import split, col, regexp_replace, trim, when, size, element_at\n",
    "\n",
    "# Extract the country/province using the last element if there is more than one element;\n",
    "# otherwise, use the original (trimmed) country string.\n",
    "distinct_countries = cleaned_df.withColumn(\"country_province\",\n",
    "    when(\n",
    "        size(split(trim(col(\"country\")), r\",\\s*\")) > 1,\n",
    "        trim(element_at(split(col(\"country\"), r\",\\s*\"), -1))\n",
    "    ).otherwise(trim(col(\"country\")))\n",
    ")\n",
    "\n",
    "# Define unwanted words to remove (adjust the list as needed)\n",
    "unwanted_words = [\"District\", \"of\", \"The\"]\n",
    "pattern = r\"\\b(\" + \"|\".join(unwanted_words) + r\")\\b\"\n",
    "\n",
    "# Remove unwanted words and trim any extra spaces\n",
    "distinct_countries = distinct_countries.withColumn(\"country_province\", regexp_replace(col(\"country_province\"), pattern, \"\"))\n",
    "distinct_countries = distinct_countries.withColumn(\"country_province\", trim(col(\"country_province\")))\n",
    "\n",
    "# Show results\n",
    "distinct_countries.show(truncate=False)\n",
    "\n",
    "\n"
   ]
  },
  {
   "cell_type": "code",
   "execution_count": 205,
   "metadata": {},
   "outputs": [],
   "source": [
    "# Now we can then repeat the code to Check the unique countries\n",
    "Distinct_countries = distinct_countries.select('country_province').distinct()"
   ]
  },
  {
   "cell_type": "code",
   "execution_count": 208,
   "metadata": {},
   "outputs": [
    {
     "name": "stdout",
     "output_type": "stream",
     "text": [
      "+----------------+\n",
      "|country_province|\n",
      "+----------------+\n",
      "|          Sweden|\n",
      "|       Singapore|\n",
      "|          Turkey|\n",
      "|         Germany|\n",
      "|          France|\n",
      "|          Greece|\n",
      "|          Taiwan|\n",
      "|       Argentina|\n",
      "|         Belgium|\n",
      "|   United States|\n",
      "|           China|\n",
      "|           Malta|\n",
      "|           Chile|\n",
      "|           Italy|\n",
      "|          Norway|\n",
      "|           Spain|\n",
      "|         Denmark|\n",
      "|         Ireland|\n",
      "|        Thailand|\n",
      "|          Mexico|\n",
      "|     Switzerland|\n",
      "|          Latvia|\n",
      "|          Canada|\n",
      "|  Czech Republic|\n",
      "|          Brazil|\n",
      "|          Belize|\n",
      "|           Japan|\n",
      "|     New Zealand|\n",
      "|        Portugal|\n",
      "|       Australia|\n",
      "|         Austria|\n",
      "|    South Africa|\n",
      "|  United Kingdom|\n",
      "|     Netherlands|\n",
      "+----------------+\n",
      "\n"
     ]
    }
   ],
   "source": [
    "Distinct_countries.show(500)"
   ]
  },
  {
   "cell_type": "code",
   "execution_count": 207,
   "metadata": {},
   "outputs": [
    {
     "data": {
      "text/plain": [
       "34"
      ]
     },
     "execution_count": 207,
     "metadata": {},
     "output_type": "execute_result"
    }
   ],
   "source": [
    "# After counting, the unique countries are shown\n",
    "Distinct_countries.count()"
   ]
  },
  {
   "cell_type": "code",
   "execution_count": 210,
   "metadata": {},
   "outputs": [
    {
     "name": "stdout",
     "output_type": "stream",
     "text": [
      "+--------+\n",
      "|currency|\n",
      "+--------+\n",
      "| unknown|\n",
      "|     CNY|\n",
      "+--------+\n",
      "\n"
     ]
    }
   ],
   "source": [
    "# Now we've found the exact number of countries that we're working with by checking for distinct...\n",
    "# ...we should now go on to create a dictionary of those countries and their currencies, then add that to the dataframe.\n",
    "\n",
    "# let's Check the unique currencies first so we know what we're working with\n",
    "distinct_countries.select('currency').distinct().show()"
   ]
  },
  {
   "cell_type": "code",
   "execution_count": 214,
   "metadata": {},
   "outputs": [],
   "source": [
    "# creating the disctionary\n",
    "currency_map = {\n",
    "    \"Sweden\": \"Swedish Krona\",\n",
    "    \"Singapore\": \"Singapore Dollar\",\n",
    "    \"Turkey\": \"Turkish Lira\",\n",
    "    \"Germany\": \"Euro\",\n",
    "    \"France\": \"Euro\",\n",
    "    \"Greece\": \"Euro\",\n",
    "    \"Taiwan\": \"New Taiwan Dollar\",\n",
    "    \"Argentina\": \"Argentine Peso\",\n",
    "    \"Belgium\": \"Euro\",\n",
    "    \"United States\": \"US Dollar\",\n",
    "    \"China\": \"Chinese Yuan\",\n",
    "    \"Malta\": \"Euro\",\n",
    "    \"Chile\": \"Chilean Peso\",\n",
    "    \"Italy\": \"Euro\",\n",
    "    \"Norway\": \"Norwegian Krone\",\n",
    "    \"Spain\": \"Euro\",\n",
    "    \"Denmark\": \"Danish Krone\",\n",
    "    \"Ireland\": \"Euro\",\n",
    "    \"Thailand\": \"Thai Baht\",\n",
    "    \"Mexico\": \"Mexican Peso\",\n",
    "    \"Switzerland\": \"Swiss Franc\",\n",
    "    \"Latvia\": \"Euro\",\n",
    "    \"Canada\": \"Canadian Dollar\",\n",
    "    \"Czech Republic\": \"Czech Koruna\",\n",
    "    \"Brazil\": \"Brazilian Real\",\n",
    "    \"Belize\": \"Belize Dollar\",\n",
    "    \"Japan\": \"Japanese Yen\",\n",
    "    \"New Zealand\": \"New Zealand Dollar\",\n",
    "    \"Portugal\": \"Euro\",\n",
    "    \"Australia\": \"Australian Dollar\",\n",
    "    \"Austria\": \"Euro\",\n",
    "    \"South Africa\": \"South African Rand\",\n",
    "    \"United Kingdom\": \"British Pound Sterling\",\n",
    "    \"Netherlands\": \"Euro\"\n",
    "}\n"
   ]
  },
  {
   "cell_type": "code",
   "execution_count": 216,
   "metadata": {},
   "outputs": [
    {
     "name": "stdout",
     "output_type": "stream",
     "text": [
      "+-------------------+--------------------+---------+----------+--------------------+------------------+-------------------+---------------+------+--------------+-----------------+-----------+-----------------+------------------------------+----------------+---------------------+--------------------+--------------------+----------------+\n",
      "|                 id|                name|  host_id| host_name|       neighbourhood|          latitude|          longitude|      room_type| price|minimum_nights|number_of_reviews|last_review|reviews_per_month|calculated_host_listings_count|availability_365|number_of_reviews_ltm|             country|            currency|country_province|\n",
      "+-------------------+--------------------+---------+----------+--------------------+------------------+-------------------+---------------+------+--------------+-----------------+-----------+-----------------+------------------------------+----------------+---------------------+--------------------+--------------------+----------------+\n",
      "|1063058212676504354|  Masseria Pietramia| 34024984|Alessandra|            Monopoli|        40.8924317|         17.2352982|Entire home/apt| 148.0|             3|                3| 2024-07-27|             0.51|                             1|             179|                    3|Puglia, Puglia, I...|                Euro|           Italy|\n",
      "| 898428598357821374|Budget Twin Room ...|467745580|      Alan|              Camden|          51.53641|           -0.13752|   Private room|  66.0|             1|               19| 2024-08-16|             1.36|                            15|              59|                    9|London, England, ...|British Pound Ste...|  United Kingdom|\n",
      "|1145456183811818459|1 Bedroom with Br...| 22630928|Next Level|           Melbourne|-37.82172629433272| 144.96364876619177|Entire home/apt| 117.0|             3|                2| 2024-08-05|             0.51|                            46|             148|                    2|Melbourne, Victor...|   Australian Dollar|       Australia|\n",
      "|1132286729245259473|Άνετο δωμάτιο με ...|  3074032|   Vagelis|   Μυκόνου (Μykonos)|           37.4213|            25.3425|   Private room| 124.0|             1|                1| 2024-05-15|             0.23|                             2|               2|                    1|Stockholm, Stockh...|       Swedish Krona|          Sweden|\n",
      "| 643878590309111774|La casa di Nonna ...|462822450|     Sante|        Mola di Bari|        41.0600633|         17.0882794|   Private room|  80.0|             1|                1| 2022-08-29|             0.04|                             2|             241|                    0|Puglia, Puglia, I...|                Euro|           Italy|\n",
      "|           32934589|Aconchegante quar...| 10635262| Elizabeth|          Copacabana|         -22.97343|          -43.18995|   Private room| 164.0|             1|               30| 2024-09-15|              0.5|                             2|              82|                   12|Rio de Janeiro, R...|      Brazilian Real|          Brazil|\n",
      "| 670706005214293920|Casa  Luíz I - Ce...|469329176|     Paulo|Santa Marinha e S...|          41.13847|            -8.6096|Entire home/apt|  59.0|             2|              119| 2024-09-12|             4.54|                             4|              86|                   58|Porto, Norte, Por...|                Euro|        Portugal|\n",
      "|           13881135|****THE SUITE LIF...|   923465|      Kila|  Bedford-Stuyvesant|          40.68976|          -73.93912|   Private room|  85.0|            30|               71| 2024-10-03|             0.71|                             2|             353|                    1|New York City, Ne...|           US Dollar|   United States|\n",
      "|1003600342814146961|Newport garden ho...|241917411|       Wei|          Middletown|          41.51728|          -71.28341|Entire home/apt| 339.0|             2|               19| 2024-09-28|             2.01|                             1|             320|                   19|Rhode Island, Rho...|           US Dollar|   United States|\n",
      "| 746313968178974859|E Palo Alto Home ...|126644161|    Evolve|      East Palo Alto| 37.46878153172797|-122.15324907575608|Entire home/apt| 250.0|             2|               29| 2024-07-14|             1.29|                             8|             323|                   15|San Mateo County,...|           US Dollar|   United States|\n",
      "|            2474884|Copenhagen Family...|  2332582|       Gry|         Amager Vest|          55.63902|           12.60099|Entire home/apt|2200.0|             2|                1| 2024-03-30|             0.16|                             1|             352|                    1|Copenhagen, Hoved...|        Danish Krone|         Denmark|\n",
      "|1004451536213955003|Peaceful home wit...| 16253046| Christina|             Ward 62|         -34.01003|           18.43049|Entire home/apt|1990.0|             2|               21| 2024-05-23|             1.85|                             2|             216|                   21|Cape Town, Wester...|  South African Rand|    South Africa|\n",
      "|1180699200250936859|Eclectic Escape, ...| 52902268|     Erica|          Near South|          39.94746|          -82.96927|Entire home/apt| 186.0|             2|                2| 2024-08-28|             1.76|                             1|             258|                    2|Columbus, Ohio, U...|           US Dollar|   United States|\n",
      "| 678115137268546069|İstanbul Yeşilköy...|471267936|     Davud|            Bakirkoy|        40.9582636|         28.8266406|   Private room|1757.0|             1|                7| 2024-09-09|             0.27|                             6|             349|                    2|Istanbul, Marmara...|        Turkish Lira|          Turkey|\n",
      "|           38628590|Alosanthos Privat...|295033136|     Tilla|Φολεγάνδρου (Fole...|          36.62949|           24.92059|Entire home/apt| 219.0|             2|               48| 2024-09-19|             1.24|                             1|             164|                   15|Stockholm, Stockh...|       Swedish Krona|          Sweden|\n",
      "|1152005366354085735|Luxury Seaview Ap...|258027120|   Michael|          Μαλεβιζίου| 35.41066186130912|  25.01509732737733|Entire home/apt| 142.0|             2|               10| 2024-09-23|             2.22|                             4|             223|                   10|Crete, Crete, Greece|                Euro|          Greece|\n",
      "|           29039021|Spectacular Bever...| 34542133|    Shelly|       Beverly Crest|          34.11531|          -118.4266|Entire home/apt|4500.0|            30|                2| 2019-12-20|             0.03|                             3|             365|                    0|Los Angeles, Cali...|           US Dollar|   United States|\n",
      "| 832026840280098281|Elegant Victorian...|502195315|     Sasan|Kingston upon Thames|        51.4154124|         -0.2876109|Entire home/apt| 130.0|             3|               27| 2024-08-12|             1.63|                             1|             162|                   16|London, England, ...|British Pound Ste...|  United Kingdom|\n",
      "|1127626780506452267|   Zimmer in Giesing|119223020|    Marita|         Obergiesing| 48.11372438876702| 11.586378030559963|   Private room| 104.0|             2|               20| 2024-09-22|             4.35|                             1|              31|                   20|Munich, Bavaria, ...|                Euro|         Germany|\n",
      "|           20965015|Appartement tout ...|150814203|  Borderon|Castell-Platja d'Aro|          41.82226|            3.06777|Entire home/apt| 235.0|             7|                3| 2024-08-18|             0.05|                             1|             358|                    1|Girona, Catalonia...|                Euro|           Spain|\n",
      "+-------------------+--------------------+---------+----------+--------------------+------------------+-------------------+---------------+------+--------------+-----------------+-----------+-----------------+------------------------------+----------------+---------------------+--------------------+--------------------+----------------+\n",
      "only showing top 20 rows\n",
      "\n"
     ]
    }
   ],
   "source": [
    "from pyspark.sql.functions import udf\n",
    "from pyspark import SparkContext\n",
    "\n",
    "# Create UDF\n",
    "currency_map_udf = F.udf(lambda country: currency_map.get(country, None), StringType())\n",
    "\n",
    "# Apply UDF to create a new column \"currency\"\n",
    "globalStay_df = distinct_countries.withColumn(\"currency\", currency_map_udf(col(\"country_province\")))\n",
    "\n",
    "\n",
    "\n",
    "# or\n",
    "\n",
    "# Use this when you want to preserve the distinct currencies that are already in the dataframe...\n",
    "# ...in this case, i'm not keeping any because we have only 1 distinct, so no point.\n",
    "# globalStay_df = distinct_countries.withColumn(\"currency\",\n",
    "#     F.when(F.col(\"currency\") == \"Unknown\", currency_map_udf(F.col(\"country\")))\n",
    "#     .otherwise(F.col(\"currency\"))\n",
    "# )\n",
    "\n",
    "\n",
    "# Show results\n",
    "globalStay_df.show()\n"
   ]
  },
  {
   "cell_type": "markdown",
   "metadata": {},
   "source": [
    "### Conducting some analysis-transformation on the data"
   ]
  },
  {
   "cell_type": "code",
   "execution_count": 222,
   "metadata": {},
   "outputs": [],
   "source": [
    "# The first analysis we'll do is to find out What the average listing price is for each country...\n",
    "# To do this, we first have to convert the price column to a float so we can perform mathematical calculations on it\n",
    "globalStay_df = globalStay_df.withColumn('price', globalStay_df['price'].cast('float'))"
   ]
  },
  {
   "cell_type": "code",
   "execution_count": 223,
   "metadata": {},
   "outputs": [
    {
     "name": "stdout",
     "output_type": "stream",
     "text": [
      "root\n",
      " |-- id: string (nullable = true)\n",
      " |-- name: string (nullable = true)\n",
      " |-- host_id: string (nullable = true)\n",
      " |-- host_name: string (nullable = true)\n",
      " |-- neighbourhood: string (nullable = true)\n",
      " |-- latitude: string (nullable = true)\n",
      " |-- longitude: string (nullable = true)\n",
      " |-- room_type: string (nullable = true)\n",
      " |-- price: float (nullable = true)\n",
      " |-- minimum_nights: string (nullable = true)\n",
      " |-- number_of_reviews: string (nullable = true)\n",
      " |-- last_review: string (nullable = true)\n",
      " |-- reviews_per_month: string (nullable = true)\n",
      " |-- calculated_host_listings_count: string (nullable = true)\n",
      " |-- availability_365: string (nullable = true)\n",
      " |-- number_of_reviews_ltm: string (nullable = true)\n",
      " |-- country: string (nullable = true)\n",
      " |-- currency: string (nullable = true)\n",
      " |-- country_province: string (nullable = true)\n",
      "\n"
     ]
    }
   ],
   "source": [
    "# checking the schema of the dataframe to confirm that the price is now a float\n",
    "globalStay_df.printSchema()"
   ]
  },
  {
   "cell_type": "code",
   "execution_count": 224,
   "metadata": {},
   "outputs": [
    {
     "name": "stdout",
     "output_type": "stream",
     "text": [
      "+----------------+--------------------+------------------+\n",
      "|country_province|            currency|        avg(price)|\n",
      "+----------------+--------------------+------------------+\n",
      "|           Chile|        Chilean Peso| 63769.14018691589|\n",
      "|          Canada|     Canadian Dollar|           164.415|\n",
      "|         Germany|                Euro|197.08130081300814|\n",
      "|         Austria|                Euro|112.22105263157894|\n",
      "|  Czech Republic|        Czech Koruna| 5663.454545454545|\n",
      "|          Brazil|      Brazilian Real| 481.5985401459854|\n",
      "|          Belize|       Belize Dollar|318.82608695652175|\n",
      "|     New Zealand|  New Zealand Dollar|258.96153846153845|\n",
      "|         Ireland|                Euro|156.89513108614233|\n",
      "|           Italy|                Euro|180.21666666666667|\n",
      "|           Spain|                Euro|209.98090692124106|\n",
      "|           China|        Chinese Yuan| 774.6388888888889|\n",
      "|          France|                Euro|180.89836065573772|\n",
      "|          Mexico|        Mexican Peso|1695.9005235602094|\n",
      "|           Japan|        Japanese Yen|103.41935483870968|\n",
      "|         Belgium|                Euro|            84.625|\n",
      "|   United States|           US Dollar| 230.6170448256779|\n",
      "|          Turkey|        Turkish Lira|3112.2986111111113|\n",
      "|  United Kingdom|British Pound Ste...| 171.8790322580645|\n",
      "|           Malta|                Euro|100.61538461538461|\n",
      "+----------------+--------------------+------------------+\n",
      "only showing top 20 rows\n",
      "\n"
     ]
    }
   ],
   "source": [
    "# Next is to use the converted float price to find the average\n",
    "price_avg = globalStay_df.groupBy('country_province', 'currency').avg('price').show()"
   ]
  },
  {
   "cell_type": "code",
   "execution_count": 225,
   "metadata": {},
   "outputs": [
    {
     "name": "stdout",
     "output_type": "stream",
     "text": [
      "+---------------+\n",
      "|      room_type|\n",
      "+---------------+\n",
      "|    Shared room|\n",
      "|     Hotel room|\n",
      "|Entire home/apt|\n",
      "|   Private room|\n",
      "+---------------+\n",
      "\n"
     ]
    }
   ],
   "source": [
    "# Next analysis: we want to find to total number of each of the room_types that's contained in the dataset.\n",
    "\n",
    "# To do that, let's Check the distinct room_type first so we know what we're working with\n",
    "globalStay_df.select('room_type').distinct().show()"
   ]
  },
  {
   "cell_type": "code",
   "execution_count": 229,
   "metadata": {},
   "outputs": [
    {
     "name": "stdout",
     "output_type": "stream",
     "text": [
      "+---------------+-----+\n",
      "|      room_type|count|\n",
      "+---------------+-----+\n",
      "|    Shared room|   52|\n",
      "|     Hotel room|   48|\n",
      "|Entire home/apt| 7968|\n",
      "|   Private room| 1808|\n",
      "+---------------+-----+\n",
      "\n"
     ]
    }
   ],
   "source": [
    "# Count occurrences of each distinct value in the \"room_type\" column\n",
    "room_type_counts = globalStay_df.groupBy(\"room_type\").count()\n",
    "\n",
    "# Show results\n",
    "room_type_counts.show()"
   ]
  },
  {
   "cell_type": "code",
   "execution_count": 248,
   "metadata": {},
   "outputs": [
    {
     "name": "stdout",
     "output_type": "stream",
     "text": [
      "+----------------+---------------+-----+\n",
      "|country_province|      room_type|count|\n",
      "+----------------+---------------+-----+\n",
      "|   United States|Entire home/apt| 1452|\n",
      "|   United States|   Private room|  341|\n",
      "|   United States|     Hotel room|    6|\n",
      "|   United States|    Shared room|    8|\n",
      "|  United Kingdom|   Private room|  195|\n",
      "|  United Kingdom|Entire home/apt|  423|\n",
      "|  United Kingdom|     Hotel room|    1|\n",
      "|  United Kingdom|    Shared room|    1|\n",
      "|          Turkey|   Private room|   34|\n",
      "|          Turkey|Entire home/apt|  108|\n",
      "|          Turkey|     Hotel room|    2|\n",
      "|        Thailand|     Hotel room|    1|\n",
      "|        Thailand|   Private room|   27|\n",
      "|        Thailand|    Shared room|    1|\n",
      "|        Thailand|Entire home/apt|  103|\n",
      "|          Taiwan|   Private room|   12|\n",
      "|          Taiwan|Entire home/apt|   29|\n",
      "|          Taiwan|     Hotel room|    2|\n",
      "|     Switzerland|   Private room|   13|\n",
      "|     Switzerland|Entire home/apt|   50|\n",
      "+----------------+---------------+-----+\n",
      "only showing top 20 rows\n",
      "\n"
     ]
    }
   ],
   "source": [
    "# Count occurrences of each the countries with the distinct room_types\n",
    "room_type_country_counts = globalStay_df.groupBy(\"country_province\", \"room_type\").count().orderBy('country_province', ascending=False)\n",
    "\n",
    "# Show results\n",
    "room_type_country_counts.show()"
   ]
  },
  {
   "cell_type": "code",
   "execution_count": 247,
   "metadata": {},
   "outputs": [
    {
     "name": "stdout",
     "output_type": "stream",
     "text": [
      "+----------------+---------------+--------------------+------------------+\n",
      "|country_province|      room_type|            currency|        avg(price)|\n",
      "+----------------+---------------+--------------------+------------------+\n",
      "|   United States|   Private room|           US Dollar|104.64222873900293|\n",
      "|   United States|Entire home/apt|           US Dollar|  261.482782369146|\n",
      "|   United States|     Hotel room|           US Dollar|             160.5|\n",
      "|   United States|    Shared room|           US Dollar|             50.75|\n",
      "|  United Kingdom|Entire home/apt|British Pound Ste...|216.38770685579198|\n",
      "|  United Kingdom|   Private room|British Pound Ste...| 75.44102564102565|\n",
      "|  United Kingdom|     Hotel room|British Pound Ste...|             292.0|\n",
      "|  United Kingdom|    Shared room|British Pound Ste...|              30.0|\n",
      "|          Turkey|Entire home/apt|        Turkish Lira|3538.0185185185187|\n",
      "|          Turkey|   Private room|        Turkish Lira|1820.0588235294117|\n",
      "|          Turkey|     Hotel room|        Turkish Lira|            2091.5|\n",
      "|        Thailand|     Hotel room|           Thai Baht|            2700.0|\n",
      "|        Thailand|Entire home/apt|           Thai Baht|11907.873786407767|\n",
      "|        Thailand|    Shared room|           Thai Baht|             565.0|\n",
      "|        Thailand|   Private room|           Thai Baht|1436.2962962962963|\n",
      "|          Taiwan|Entire home/apt|   New Taiwan Dollar| 2981.655172413793|\n",
      "|          Taiwan|   Private room|   New Taiwan Dollar|1066.3333333333333|\n",
      "|          Taiwan|     Hotel room|   New Taiwan Dollar|            2601.5|\n",
      "|     Switzerland|   Private room|         Swiss Franc| 66.38461538461539|\n",
      "|     Switzerland|Entire home/apt|         Swiss Franc|            174.66|\n",
      "+----------------+---------------+--------------------+------------------+\n",
      "only showing top 20 rows\n",
      "\n"
     ]
    }
   ],
   "source": [
    "# let's find the average price of the room types, we'll also order it by the average price\n",
    "avg_price_room_type = globalStay_df.groupBy('country_province', 'room_type', 'currency').avg('price').orderBy('country_province', ascending=False)\n",
    "\n",
    "avg_price_room_type.show()\n"
   ]
  }
 ],
 "metadata": {
  "kernelspec": {
   "display_name": ".myenv_GlobalStay",
   "language": "python",
   "name": "python3"
  },
  "language_info": {
   "codemirror_mode": {
    "name": "ipython",
    "version": 3
   },
   "file_extension": ".py",
   "mimetype": "text/x-python",
   "name": "python",
   "nbconvert_exporter": "python",
   "pygments_lexer": "ipython3",
   "version": "3.11.4"
  }
 },
 "nbformat": 4,
 "nbformat_minor": 2
}
